{
 "cells": [
  {
   "cell_type": "markdown",
   "metadata": {},
   "source": [
    "# Goal\n",
    "\n",
    "Can the data answer the question?\n",
    "\n",
    "-- DS: optimise customer experience by tailoring cnotent to user needs (identify behaviour patterns)\n",
    "\n",
    "-- ML: difficulty finding content (identify 404 patterns) (identify opportunity to improve)"
   ]
  },
  {
   "cell_type": "markdown",
   "metadata": {},
   "source": [
    "## Understanding variables\n",
    "\n",
    "Parameters described here: https://ita.ee.lbl.gov/html/contrib/NASA-HTTP.html"
   ]
  },
  {
   "cell_type": "markdown",
   "metadata": {},
   "source": [
    "### Load data to dataframe"
   ]
  },
  {
   "cell_type": "markdown",
   "metadata": {},
   "source": [
    "Declaring analysis variables"
   ]
  },
  {
   "cell_type": "code",
   "execution_count": 2,
   "metadata": {},
   "outputs": [],
   "source": [
    "import pandas as pd\n",
    "import numpy as np\n",
    "import os\n",
    "import re\n",
    "\n",
    "folder_raw_data = '../data/raw'\n",
    "folder_clean_data = '../data/cleaned'\n",
    "symbols_dirty = re.compile(' -0400| -|\\[|\\]')\n",
    "raw_encoding='iso-8859-1'\n",
    "\n",
    "cols_raw_log = ['host', 'timestamp', 'request', 'response', 'bytes']\n",
    "dtype_cols_raw_log = {'host': str, 'timestamp': np.datetime64, 'request': str, 'response': str, 'bytes': np.int64}"
   ]
  },
  {
   "cell_type": "markdown",
   "metadata": {},
   "source": [
    "Need to clean data from unnecessary dashes so the tsv parsing would be more straightforward."
   ]
  },
  {
   "cell_type": "code",
   "execution_count": 3,
   "metadata": {},
   "outputs": [],
   "source": [
    "def clean_raw_logs(file):\n",
    "    with open(folder_clean_data + '/' + file, 'w', encoding=raw_encoding) as c:\n",
    "        with open(folder_raw_data + '/' + file, 'r', encoding=raw_encoding) as r:\n",
    "            for log_line in r:\n",
    "                log_line = symbols_dirty.sub('', log_line)\n",
    "                c.write(log_line)"
   ]
  },
  {
   "cell_type": "markdown",
   "metadata": {},
   "source": [
    "Ensuring adherence to data type"
   ]
  },
  {
   "cell_type": "code",
   "execution_count": 4,
   "metadata": {},
   "outputs": [],
   "source": [
    "def apply_data_type(df_logs):\n",
    "    df_logs['timestamp'] = pd.to_datetime(df_logs['timestamp'], format='%d/%b/%Y:%H:%M:%S')\n",
    "    df_logs['bytes'] = df_logs['bytes'].fillna(0)\n",
    "    df_logs = df_logs.astype(dtype_cols_raw_log)\n",
    "    return df_logs"
   ]
  },
  {
   "cell_type": "markdown",
   "metadata": {},
   "source": [
    "Loading the raw logs and converting in an expected dataframe output"
   ]
  },
  {
   "cell_type": "code",
   "execution_count": 5,
   "metadata": {},
   "outputs": [
    {
     "name": "stderr",
     "output_type": "stream",
     "text": [
      "/var/folders/xr/9y_qxq8j3mzgvbyy734y4_pc0000gn/T/ipykernel_38959/2534735201.py:7: DtypeWarning: Columns (3) have mixed types. Specify dtype option on import or set low_memory=False.\n",
      "  df_log = pd.read_csv(folder_clean_data + '/' + file, sep=' ', encoding=raw_encoding, header=None, names=cols_raw_log,\n",
      "/var/folders/xr/9y_qxq8j3mzgvbyy734y4_pc0000gn/T/ipykernel_38959/2534735201.py:7: DtypeWarning: Columns (3) have mixed types. Specify dtype option on import or set low_memory=False.\n",
      "  df_log = pd.read_csv(folder_clean_data + '/' + file, sep=' ', encoding=raw_encoding, header=None, names=cols_raw_log,\n"
     ]
    }
   ],
   "source": [
    "def load_logs():\n",
    "    files = os.listdir(folder_raw_data)\n",
    "    files = [file for file in files if os.path.isfile(folder_raw_data + '/' + file)]\n",
    "    df_logs = pd.DataFrame(columns=cols_raw_log)\n",
    "    for file in files:\n",
    "        clean_raw_logs(file)\n",
    "        df_log = pd.read_csv(folder_clean_data + '/' + file, sep=' ', encoding=raw_encoding, header=None, names=cols_raw_log, \n",
    "                             on_bad_lines='skip') #'warn')\n",
    "        df_log = apply_data_type(df_log)\n",
    "        df_logs = pd.concat([df_logs, df_log], axis=0)\n",
    "    return df_logs\n",
    "\n",
    "df_loaded_logs = load_logs()\n"
   ]
  },
  {
   "cell_type": "code",
   "execution_count": 6,
   "metadata": {},
   "outputs": [
    {
     "data": {
      "text/html": [
       "<div>\n",
       "<style scoped>\n",
       "    .dataframe tbody tr th:only-of-type {\n",
       "        vertical-align: middle;\n",
       "    }\n",
       "\n",
       "    .dataframe tbody tr th {\n",
       "        vertical-align: top;\n",
       "    }\n",
       "\n",
       "    .dataframe thead th {\n",
       "        text-align: right;\n",
       "    }\n",
       "</style>\n",
       "<table border=\"1\" class=\"dataframe\">\n",
       "  <thead>\n",
       "    <tr style=\"text-align: right;\">\n",
       "      <th></th>\n",
       "      <th>host</th>\n",
       "      <th>timestamp</th>\n",
       "      <th>request</th>\n",
       "      <th>response</th>\n",
       "      <th>bytes</th>\n",
       "    </tr>\n",
       "  </thead>\n",
       "  <tbody>\n",
       "    <tr>\n",
       "      <th>0</th>\n",
       "      <td>199.72.81.55</td>\n",
       "      <td>1995-07-01 00:00:01</td>\n",
       "      <td>GET /history/apollo/ HTTP/1.0</td>\n",
       "      <td>200</td>\n",
       "      <td>6245</td>\n",
       "    </tr>\n",
       "    <tr>\n",
       "      <th>1</th>\n",
       "      <td>unicomp6.unicomp.net</td>\n",
       "      <td>1995-07-01 00:00:06</td>\n",
       "      <td>GET /shuttle/countdown/ HTTP/1.0</td>\n",
       "      <td>200</td>\n",
       "      <td>3985</td>\n",
       "    </tr>\n",
       "    <tr>\n",
       "      <th>2</th>\n",
       "      <td>199.120.110.21</td>\n",
       "      <td>1995-07-01 00:00:09</td>\n",
       "      <td>GET /shuttle/missions/sts-73/mission-sts-73.ht...</td>\n",
       "      <td>200</td>\n",
       "      <td>4085</td>\n",
       "    </tr>\n",
       "    <tr>\n",
       "      <th>3</th>\n",
       "      <td>burger.letters.com</td>\n",
       "      <td>1995-07-01 00:00:11</td>\n",
       "      <td>GET /shuttle/countdown/liftoff.html HTTP/1.0</td>\n",
       "      <td>304</td>\n",
       "      <td>0</td>\n",
       "    </tr>\n",
       "    <tr>\n",
       "      <th>4</th>\n",
       "      <td>199.120.110.21</td>\n",
       "      <td>1995-07-01 00:00:11</td>\n",
       "      <td>GET /shuttle/missions/sts-73/sts-73-patch-smal...</td>\n",
       "      <td>200</td>\n",
       "      <td>4179</td>\n",
       "    </tr>\n",
       "  </tbody>\n",
       "</table>\n",
       "</div>"
      ],
      "text/plain": [
       "                   host            timestamp  \\\n",
       "0          199.72.81.55  1995-07-01 00:00:01   \n",
       "1  unicomp6.unicomp.net  1995-07-01 00:00:06   \n",
       "2        199.120.110.21  1995-07-01 00:00:09   \n",
       "3    burger.letters.com  1995-07-01 00:00:11   \n",
       "4        199.120.110.21  1995-07-01 00:00:11   \n",
       "\n",
       "                                             request response bytes  \n",
       "0                      GET /history/apollo/ HTTP/1.0      200  6245  \n",
       "1                   GET /shuttle/countdown/ HTTP/1.0      200  3985  \n",
       "2  GET /shuttle/missions/sts-73/mission-sts-73.ht...      200  4085  \n",
       "3       GET /shuttle/countdown/liftoff.html HTTP/1.0      304     0  \n",
       "4  GET /shuttle/missions/sts-73/sts-73-patch-smal...      200  4179  "
      ]
     },
     "execution_count": 6,
     "metadata": {},
     "output_type": "execute_result"
    }
   ],
   "source": [
    "df_loaded_logs.head()"
   ]
  },
  {
   "cell_type": "code",
   "execution_count": 7,
   "metadata": {},
   "outputs": [
    {
     "data": {
      "text/plain": [
       "host         object\n",
       "timestamp    object\n",
       "request      object\n",
       "response     object\n",
       "bytes        object\n",
       "dtype: object"
      ]
     },
     "execution_count": 7,
     "metadata": {},
     "output_type": "execute_result"
    }
   ],
   "source": [
    "df_loaded_logs.dtypes"
   ]
  },
  {
   "cell_type": "markdown",
   "metadata": {},
   "source": [
    "## Clean dataset and identify features\n",
    "\n",
    "-- refactor URL\n",
    "\n",
    "-- variable selection (create new variable indicators)\n",
    "\n",
    "-- removing rows with null values\n",
    "\n",
    "-- identify outliers?"
   ]
  },
  {
   "cell_type": "markdown",
   "metadata": {},
   "source": [
    "Identifying important variables in terms of answering the questions:\n",
    "1. *host*: identifying requester (to be used for grouping later).\n",
    "2. *timestamp*: indicator for specific times where experience was bad. \n",
    "    * To be used for grouping per day, hour, minutes. \n",
    "    * Year is irrelevant (as dataset is limited), but will be kept for flexibility.\n",
    "3. *request*: identifying the pages viewed/requested.\n",
    "    * Request method\n",
    "    * URL traversal path\n",
    "    * Page OR Resource OR None\n",
    "    * HTTP/1.0 is irrelevant (doesn't give insight because all requests use it for this dataset)\n",
    "4. *response*: identifies response codes\n",
    "    * nominal: success, redirect, not found\n",
    "    * more indicator may be needed to identify points for improvement. refer to https://en.wikipedia.org/wiki/List_of_HTTP_status_codes\n",
    "5. *bytes*: marginally irrelevant, except for explaining why certain pages may take a long time to load (however there are no other captured information available to validate this).\n",
    "    * threshold indicator to build case for potential point for improvement: CDN\n",
    "\n",
    "These will then be formed to data features"
   ]
  },
  {
   "cell_type": "code",
   "execution_count": 1,
   "metadata": {},
   "outputs": [
    {
     "name": "stderr",
     "output_type": "stream",
     "text": [
      "/var/folders/xr/9y_qxq8j3mzgvbyy734y4_pc0000gn/T/ipykernel_82787/610457873.py:23: DtypeWarning: Columns (3) have mixed types. Specify dtype option on import or set low_memory=False.\n",
      "  df_log = pd.read_csv(folder_clean_data + '/' + file, sep=' ', encoding=raw_encoding, header=None, names=cols_raw_log,\n",
      "/var/folders/xr/9y_qxq8j3mzgvbyy734y4_pc0000gn/T/ipykernel_82787/610457873.py:23: DtypeWarning: Columns (3) have mixed types. Specify dtype option on import or set low_memory=False.\n",
      "  df_log = pd.read_csv(folder_clean_data + '/' + file, sep=' ', encoding=raw_encoding, header=None, names=cols_raw_log,\n"
     ]
    },
    {
     "data": {
      "text/plain": [
       "host          137979\n",
       "timestamp    2075518\n",
       "request        32845\n",
       "response          15\n",
       "bytes          16502\n",
       "dtype: int64"
      ]
     },
     "execution_count": 1,
     "metadata": {},
     "output_type": "execute_result"
    }
   ],
   "source": [
    "import pandas as pd\n",
    "import numpy as np\n",
    "import os\n",
    "import matplotlib.pyplot as plt\n",
    "\n",
    "folder_clean_data = '../data/cleaned'\n",
    "raw_encoding='iso-8859-1'\n",
    "\n",
    "cols_raw_log = ['host', 'timestamp', 'request', 'response', 'bytes']\n",
    "dtype_cols_raw_log = {'host': str, 'timestamp': np.datetime64, 'request': str, 'response': str, 'bytes': np.int64}\n",
    "\n",
    "def apply_data_type(df_logs):\n",
    "    df_logs['timestamp'] = pd.to_datetime(df_logs['timestamp'], format='%d/%b/%Y:%H:%M:%S')\n",
    "    df_logs['bytes'] = df_logs['bytes'].fillna(0)\n",
    "    df_logs = df_logs.astype(dtype_cols_raw_log)\n",
    "    return df_logs\n",
    "\n",
    "def load_cleaned_logs():\n",
    "    files = os.listdir(folder_clean_data)\n",
    "    files = [file for file in files if os.path.isfile(folder_clean_data + '/' + file)]\n",
    "    df_logs = pd.DataFrame(columns=cols_raw_log)\n",
    "    for file in files:\n",
    "        df_log = pd.read_csv(folder_clean_data + '/' + file, sep=' ', encoding=raw_encoding, header=None, names=cols_raw_log, \n",
    "                             on_bad_lines='skip') #'warn')\n",
    "        df_logs = pd.concat([df_logs, df_log], axis=0)\n",
    "    return apply_data_type(df_logs)\n",
    "\n",
    "df_cleaned_logs = load_cleaned_logs()\n",
    "df_cleaned_logs.nunique(axis=0)"
   ]
  },
  {
   "cell_type": "markdown",
   "metadata": {},
   "source": [
    "### Host\n",
    "\n",
    "* Insight idea: categorise the type of visitor based on url (e.g. government, education, commercial, etc)\n",
    "* Add Domain column"
   ]
  },
  {
   "cell_type": "code",
   "execution_count": 2,
   "metadata": {},
   "outputs": [],
   "source": [
    "def get_visitor_domain(url):\n",
    "    try:\n",
    "        domain_index = url.rindex('.')\n",
    "        domain = str(url[(domain_index + 1) :])\n",
    "        if domain.isdigit():\n",
    "            domain = None\n",
    "    except:\n",
    "        domain = None\n",
    "    return domain\n",
    "\n",
    "def categorise_visitor(domain):\n",
    "    switcher = {\n",
    "        'net': 'network',\n",
    "        'com': 'commercial',\n",
    "        'org': 'organisation',\n",
    "        'edu': 'education',\n",
    "        'gov': 'government',\n",
    "        'int': 'international',\n",
    "    }\n",
    "    domain_length = len(domain)\n",
    "    try:\n",
    "        if domain_length == 2:\n",
    "            category = 'country'\n",
    "        elif domain_length == 3:\n",
    "            category = switcher.get(domain, 'unknown')\n",
    "        else:\n",
    "            category = 'unknown'\n",
    "    except:\n",
    "        category = 'unknown'\n",
    "    return category"
   ]
  },
  {
   "cell_type": "code",
   "execution_count": 3,
   "metadata": {},
   "outputs": [
    {
     "name": "stdout",
     "output_type": "stream",
     "text": [
      "unique domains:  ['None' 'net' 'com' 'jp' 'au' 'edu' 'ca' 'org' 'gov' 'us' 'nz' 'uk' 'kr'\n",
      " 'ch' 'br' 'sg' 'it' 'mil' 'mx' 'nl' 'be' 'za' 'fr' 'de' 'my' 'tw' 'at'\n",
      " 'fi' 'se' 'id' 'il' 'es' 'no' 'int' 'su' 'ph' 'ie' 'th' 'gr' 'pt' 'dk'\n",
      " 'kw' 'ru' 'cl' 'cz' 'lv' 'arpa' 'lu' 'cr' 'co' 'tr' 'hr' 'bm' 'ua' 've'\n",
      " 'si' 'cn' 'ro' 'pl' 'hk' 'sk' 'is' 'ec' 'hu' 'gb' 'sa' 'li' 'ar' 'pa'\n",
      " 'pr' 'jm' 'in' 'ee' 'do' 'pe' 'fj' 'uy' 'xom' 'go' 'eg' 'ge' 'p' 'microd'\n",
      " 'mt' 'keri' 'rom' 'hps' 'gl' 'gu' 'cy' 'eecs' 'line4' 'line5' 'lt']\n"
     ]
    },
    {
     "data": {
      "text/plain": [
       "host        137979\n",
       "domain          94\n",
       "category         8\n",
       "dtype: int64"
      ]
     },
     "execution_count": 3,
     "metadata": {},
     "output_type": "execute_result"
    }
   ],
   "source": [
    "# create a new df to show who are the visitors\n",
    "df_visitors = pd.DataFrame(df_cleaned_logs['host'])\n",
    "\n",
    "# identify visitor profile through domain\n",
    "df_visitors['domain'] = df_visitors['host'].apply(get_visitor_domain).map(lambda x: str(x))\n",
    "print('unique domains: ', df_visitors['domain'].unique())\n",
    "\n",
    "df_visitors['category'] = df_visitors['domain'].apply(categorise_visitor).map(lambda x: str(x))\n",
    "df_visitors.nunique(axis=0)"
   ]
  },
  {
   "cell_type": "markdown",
   "metadata": {},
   "source": [
    "#### Top visitors (ranked)"
   ]
  },
  {
   "cell_type": "code",
   "execution_count": 4,
   "metadata": {},
   "outputs": [
    {
     "data": {
      "text/plain": [
       "host\n",
       "piweba3y.prodigy.com              21988\n",
       "piweba4y.prodigy.com              16437\n",
       "piweba1y.prodigy.com              12825\n",
       "edams.ksc.nasa.gov                11964\n",
       "163.206.89.4                       9697\n",
       "                                  ...  \n",
       "cu-dialup-1020.cit.cornell.edu        1\n",
       "141.211.112.25                        1\n",
       "161.119.239.163                       1\n",
       "kra.tiac.net                          1\n",
       "ds11.analogy.com                      1\n",
       "Name: host, Length: 137979, dtype: int64"
      ]
     },
     "execution_count": 4,
     "metadata": {},
     "output_type": "execute_result"
    }
   ],
   "source": [
    "# group by and count number of visits\n",
    "df_top_visitors = df_visitors.groupby(['host'])['host'].count().sort_values(ascending=False)\n",
    "df_top_visitors"
   ]
  },
  {
   "cell_type": "markdown",
   "metadata": {},
   "source": [
    "#### Type of visitors (distribution)"
   ]
  },
  {
   "cell_type": "code",
   "execution_count": 8,
   "metadata": {},
   "outputs": [
    {
     "name": "stderr",
     "output_type": "stream",
     "text": [
      "/var/folders/xr/9y_qxq8j3mzgvbyy734y4_pc0000gn/T/ipykernel_82787/2601525793.py:11: MatplotlibDeprecationWarning: The 'b' parameter of grid() has been renamed 'visible' since Matplotlib 3.5; support for the old name will be dropped two minor releases later.\n",
      "  ax.grid(b = True, color ='grey',\n"
     ]
    },
    {
     "data": {
      "image/png": "[encoded data removed]",
      "text/plain": [
       "<Figure size 1152x648 with 1 Axes>"
      ]
     },
     "metadata": {
      "needs_background": "light"
     },
     "output_type": "display_data"
    }
   ],
   "source": [
    "# group by and count number of visits\n",
    "df_top_visitors = df_visitors.groupby(['category'])['category'].count().reset_index(name='count')\n",
    "\n",
    "# horizontal bar plot\n",
    "fig, ax = plt.subplots(figsize =(16, 9))\n",
    "ax.barh(df_top_visitors['category'], df_top_visitors['count'])\n",
    "# add padding for better visibility\n",
    "ax.xaxis.set_tick_params(pad = 3)\n",
    "ax.yaxis.set_tick_params(pad = 5)\n",
    "# Add x, y gridlines\n",
    "ax.grid(b = True, color ='grey',\n",
    "        linestyle ='-.', linewidth = 0.5,\n",
    "        alpha = 0.2)\n",
    "# sort descending order\n",
    "ax.invert_yaxis()\n",
    "# Add annotation to bars\n",
    "for i in ax.patches:   \n",
    "    plt.text(i.get_width()+0.2, i.get_y()+0.5, \n",
    "             str(round((i.get_width()), 2)),\n",
    "             fontsize = 10, fontweight ='bold',\n",
    "             color ='grey') \n",
    "# Add Plot Title\n",
    "ax.set_title('Types of visitors') \n",
    "plt.show()\n"
   ]
  },
  {
   "cell_type": "markdown",
   "metadata": {},
   "source": [
    "### Timestamp\n",
    "* Add Month column\n",
    "* Add Hour column\n",
    "* Add Mins column"
   ]
  },
  {
   "cell_type": "markdown",
   "metadata": {},
   "source": [
    "## Identify relationship between features"
   ]
  },
  {
   "cell_type": "code",
   "execution_count": null,
   "metadata": {},
   "outputs": [],
   "source": []
  }
 ],
 "metadata": {
  "kernelspec": {
   "display_name": "py38",
   "language": "python",
   "name": "python3"
  },
  "language_info": {
   "codemirror_mode": {
    "name": "ipython",
    "version": 3
   },
   "file_extension": ".py",
   "mimetype": "text/x-python",
   "name": "python",
   "nbconvert_exporter": "python",
   "pygments_lexer": "ipython3",
   "version": "3.8.12"
  },
  "orig_nbformat": 4
 },
 "nbformat": 4,
 "nbformat_minor": 2
}
