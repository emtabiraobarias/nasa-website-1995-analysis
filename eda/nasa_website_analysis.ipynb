{
 "cells": [
  {
   "cell_type": "markdown",
   "metadata": {},
   "source": [
    "# Understanding variables\n",
    "\n",
    "Can the data answer the question?\n",
    "\n",
    "-- DS: optimise customer experience by tailoring cnotent to user needs (identify behaviour patterns)\n",
    "\n",
    "-- ML: difficulty finding content (identify 404 patterns) (identify opportunity to improve)"
   ]
  },
  {
   "cell_type": "code",
   "execution_count": 1,
   "metadata": {},
   "outputs": [],
   "source": [
    "import pandas as pd\n",
    "import numpy as np\n",
    "import os\n",
    "import re"
   ]
  },
  {
   "cell_type": "markdown",
   "metadata": {},
   "source": [
    "## Load data"
   ]
  },
  {
   "cell_type": "code",
   "execution_count": 2,
   "metadata": {},
   "outputs": [],
   "source": [
    "# constants\n",
    "folder_raw_data = '../data/raw'\n",
    "folder_clean_data = '../data/cleaned'\n",
    "symbols_dirty = re.compile(' -0400| -|\\[|\\]')\n",
    "raw_encoding='iso-8859-1'\n",
    "\n",
    "# variables\n",
    "cols_raw_log = ['host', 'timestamp', 'request', 'response', 'bytes']\n",
    "dtype_cols_raw_log = {'host': str, 'timestamp': np.datetime64, 'request': str, 'response': str, 'bytes': np.int64}"
   ]
  },
  {
   "cell_type": "markdown",
   "metadata": {},
   "source": [
    "Need to clean data from unnecessary dashes so the tsv parsing would be more straightforward."
   ]
  },
  {
   "cell_type": "code",
   "execution_count": 3,
   "metadata": {},
   "outputs": [],
   "source": [
    "def clean_raw_logs(file):\n",
    "    with open(folder_clean_data + '/' + file, 'w', encoding=raw_encoding) as c:\n",
    "        with open(folder_raw_data + '/' + file, 'r', encoding=raw_encoding) as r:\n",
    "            for log_line in r:\n",
    "                log_line = symbols_dirty.sub('', log_line)\n",
    "                c.write(log_line)"
   ]
  },
  {
   "cell_type": "markdown",
   "metadata": {},
   "source": [
    "Ensuring adherence to data type"
   ]
  },
  {
   "cell_type": "code",
   "execution_count": 4,
   "metadata": {},
   "outputs": [],
   "source": [
    "def apply_data_type(df_logs):\n",
    "    df_logs['timestamp'] = pd.to_datetime(df_logs['timestamp'], format='%d/%b/%Y:%H:%M:%S')\n",
    "    df_logs['bytes'] = df_logs['bytes'].fillna(0)\n",
    "    df_logs = df_logs.astype(dtype_cols_raw_log)\n",
    "    return df_logs"
   ]
  },
  {
   "cell_type": "markdown",
   "metadata": {},
   "source": [
    "Loading the raw logs and converting in an expected dataframe output"
   ]
  },
  {
   "cell_type": "code",
   "execution_count": 5,
   "metadata": {},
   "outputs": [
    {
     "name": "stderr",
     "output_type": "stream",
     "text": [
      "/var/folders/xr/9y_qxq8j3mzgvbyy734y4_pc0000gn/T/ipykernel_38959/2534735201.py:7: DtypeWarning: Columns (3) have mixed types. Specify dtype option on import or set low_memory=False.\n",
      "  df_log = pd.read_csv(folder_clean_data + '/' + file, sep=' ', encoding=raw_encoding, header=None, names=cols_raw_log,\n",
      "/var/folders/xr/9y_qxq8j3mzgvbyy734y4_pc0000gn/T/ipykernel_38959/2534735201.py:7: DtypeWarning: Columns (3) have mixed types. Specify dtype option on import or set low_memory=False.\n",
      "  df_log = pd.read_csv(folder_clean_data + '/' + file, sep=' ', encoding=raw_encoding, header=None, names=cols_raw_log,\n"
     ]
    }
   ],
   "source": [
    "def load_logs():\n",
    "    files = os.listdir(folder_raw_data)\n",
    "    files = [file for file in files if os.path.isfile(folder_raw_data + '/' + file)]\n",
    "    df_logs = pd.DataFrame(columns=cols_raw_log)\n",
    "    for file in files:\n",
    "        clean_raw_logs(file)\n",
    "        df_log = pd.read_csv(folder_clean_data + '/' + file, sep=' ', encoding=raw_encoding, header=None, names=cols_raw_log, \n",
    "                             on_bad_lines='skip') #'warn')\n",
    "        df_log = apply_data_type(df_log)\n",
    "        df_logs = pd.concat([df_logs, df_log], axis=0)\n",
    "    return df_logs\n",
    "\n",
    "df_loaded_logs = load_logs()\n"
   ]
  },
  {
   "cell_type": "code",
   "execution_count": 6,
   "metadata": {},
   "outputs": [
    {
     "data": {
      "text/html": [
       "<div>\n",
       "<style scoped>\n",
       "    .dataframe tbody tr th:only-of-type {\n",
       "        vertical-align: middle;\n",
       "    }\n",
       "\n",
       "    .dataframe tbody tr th {\n",
       "        vertical-align: top;\n",
       "    }\n",
       "\n",
       "    .dataframe thead th {\n",
       "        text-align: right;\n",
       "    }\n",
       "</style>\n",
       "<table border=\"1\" class=\"dataframe\">\n",
       "  <thead>\n",
       "    <tr style=\"text-align: right;\">\n",
       "      <th></th>\n",
       "      <th>host</th>\n",
       "      <th>timestamp</th>\n",
       "      <th>request</th>\n",
       "      <th>response</th>\n",
       "      <th>bytes</th>\n",
       "    </tr>\n",
       "  </thead>\n",
       "  <tbody>\n",
       "    <tr>\n",
       "      <th>0</th>\n",
       "      <td>199.72.81.55</td>\n",
       "      <td>1995-07-01 00:00:01</td>\n",
       "      <td>GET /history/apollo/ HTTP/1.0</td>\n",
       "      <td>200</td>\n",
       "      <td>6245</td>\n",
       "    </tr>\n",
       "    <tr>\n",
       "      <th>1</th>\n",
       "      <td>unicomp6.unicomp.net</td>\n",
       "      <td>1995-07-01 00:00:06</td>\n",
       "      <td>GET /shuttle/countdown/ HTTP/1.0</td>\n",
       "      <td>200</td>\n",
       "      <td>3985</td>\n",
       "    </tr>\n",
       "    <tr>\n",
       "      <th>2</th>\n",
       "      <td>199.120.110.21</td>\n",
       "      <td>1995-07-01 00:00:09</td>\n",
       "      <td>GET /shuttle/missions/sts-73/mission-sts-73.ht...</td>\n",
       "      <td>200</td>\n",
       "      <td>4085</td>\n",
       "    </tr>\n",
       "    <tr>\n",
       "      <th>3</th>\n",
       "      <td>burger.letters.com</td>\n",
       "      <td>1995-07-01 00:00:11</td>\n",
       "      <td>GET /shuttle/countdown/liftoff.html HTTP/1.0</td>\n",
       "      <td>304</td>\n",
       "      <td>0</td>\n",
       "    </tr>\n",
       "    <tr>\n",
       "      <th>4</th>\n",
       "      <td>199.120.110.21</td>\n",
       "      <td>1995-07-01 00:00:11</td>\n",
       "      <td>GET /shuttle/missions/sts-73/sts-73-patch-smal...</td>\n",
       "      <td>200</td>\n",
       "      <td>4179</td>\n",
       "    </tr>\n",
       "  </tbody>\n",
       "</table>\n",
       "</div>"
      ],
      "text/plain": [
       "                   host            timestamp  \\\n",
       "0          199.72.81.55  1995-07-01 00:00:01   \n",
       "1  unicomp6.unicomp.net  1995-07-01 00:00:06   \n",
       "2        199.120.110.21  1995-07-01 00:00:09   \n",
       "3    burger.letters.com  1995-07-01 00:00:11   \n",
       "4        199.120.110.21  1995-07-01 00:00:11   \n",
       "\n",
       "                                             request response bytes  \n",
       "0                      GET /history/apollo/ HTTP/1.0      200  6245  \n",
       "1                   GET /shuttle/countdown/ HTTP/1.0      200  3985  \n",
       "2  GET /shuttle/missions/sts-73/mission-sts-73.ht...      200  4085  \n",
       "3       GET /shuttle/countdown/liftoff.html HTTP/1.0      304     0  \n",
       "4  GET /shuttle/missions/sts-73/sts-73-patch-smal...      200  4179  "
      ]
     },
     "execution_count": 6,
     "metadata": {},
     "output_type": "execute_result"
    }
   ],
   "source": [
    "df_loaded_logs.head()"
   ]
  },
  {
   "cell_type": "code",
   "execution_count": 7,
   "metadata": {},
   "outputs": [
    {
     "data": {
      "text/plain": [
       "host         object\n",
       "timestamp    object\n",
       "request      object\n",
       "response     object\n",
       "bytes        object\n",
       "dtype: object"
      ]
     },
     "execution_count": 7,
     "metadata": {},
     "output_type": "execute_result"
    }
   ],
   "source": [
    "df_loaded_logs.dtypes"
   ]
  },
  {
   "cell_type": "markdown",
   "metadata": {},
   "source": [
    "# Clean dataset\n",
    "\n",
    "-- refactor URL\n",
    "\n",
    "-- variable selection (create new variable indicators)\n",
    "\n",
    "-- removing rows with null values\n",
    "\n",
    "-- identify outliers?"
   ]
  },
  {
   "cell_type": "code",
   "execution_count": null,
   "metadata": {},
   "outputs": [],
   "source": []
  },
  {
   "cell_type": "markdown",
   "metadata": {},
   "source": [
    "# Identify relationship between variables"
   ]
  },
  {
   "cell_type": "code",
   "execution_count": null,
   "metadata": {},
   "outputs": [],
   "source": []
  }
 ],
 "metadata": {
  "kernelspec": {
   "display_name": "py38",
   "language": "python",
   "name": "python3"
  },
  "language_info": {
   "codemirror_mode": {
    "name": "ipython",
    "version": 3
   },
   "file_extension": ".py",
   "mimetype": "text/x-python",
   "name": "python",
   "nbconvert_exporter": "python",
   "pygments_lexer": "ipython3",
   "version": "3.8.13"
  },
  "orig_nbformat": 4
 },
 "nbformat": 4,
 "nbformat_minor": 2
}
