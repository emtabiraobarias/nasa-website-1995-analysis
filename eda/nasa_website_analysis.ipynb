{
 "cells": [
  {
   "cell_type": "markdown",
   "metadata": {},
   "source": [
    "# Goal\n",
    "\n",
    "Can the data answer the question?\n",
    "\n",
    "-- DS: optimise customer experience by tailoring cnotent to user needs (identify behaviour patterns)\n",
    "\n",
    "-- ML: difficulty finding content (identify 404 patterns) (identify opportunity to improve)"
   ]
  },
  {
   "cell_type": "markdown",
   "metadata": {},
   "source": [
    "## Understanding variables\n",
    "\n",
    "Parameters described here: https://ita.ee.lbl.gov/html/contrib/NASA-HTTP.html"
   ]
  },
  {
   "cell_type": "markdown",
   "metadata": {},
   "source": [
    "### Load data to dataframe"
   ]
  },
  {
   "cell_type": "markdown",
   "metadata": {},
   "source": [
    "Declaring analysis variables"
   ]
  },
  {
   "cell_type": "code",
   "execution_count": 2,
   "metadata": {},
   "outputs": [],
   "source": [
    "import pandas as pd\n",
    "import numpy as np\n",
    "import os\n",
    "import re\n",
    "\n",
    "folder_raw_data = '../data/raw'\n",
    "folder_clean_data = '../data/cleaned'\n",
    "symbols_dirty = re.compile(' -0400| -|\\[|\\]')\n",
    "raw_encoding='iso-8859-1'\n",
    "\n",
    "cols_raw_log = ['host', 'timestamp', 'request', 'response', 'bytes']\n",
    "dtype_cols_raw_log = {'host': str, 'timestamp': np.datetime64, 'request': str, 'response': str, 'bytes': np.int64}"
   ]
  },
  {
   "cell_type": "markdown",
   "metadata": {},
   "source": [
    "Need to clean data from unnecessary dashes so the tsv parsing would be more straightforward."
   ]
  },
  {
   "cell_type": "code",
   "execution_count": 3,
   "metadata": {},
   "outputs": [],
   "source": [
    "def clean_raw_logs(file):\n",
    "    with open(folder_clean_data + '/' + file, 'w', encoding=raw_encoding) as c:\n",
    "        with open(folder_raw_data + '/' + file, 'r', encoding=raw_encoding) as r:\n",
    "            for log_line in r:\n",
    "                log_line = symbols_dirty.sub('', log_line)\n",
    "                c.write(log_line)"
   ]
  },
  {
   "cell_type": "markdown",
   "metadata": {},
   "source": [
    "Ensuring adherence to data type"
   ]
  },
  {
   "cell_type": "code",
   "execution_count": 4,
   "metadata": {},
   "outputs": [],
   "source": [
    "def apply_data_type(df_logs):\n",
    "    df_logs['timestamp'] = pd.to_datetime(df_logs['timestamp'], format='%d/%b/%Y:%H:%M:%S')\n",
    "    df_logs['bytes'] = df_logs['bytes'].fillna(0)\n",
    "    df_logs = df_logs.astype(dtype_cols_raw_log)\n",
    "    return df_logs"
   ]
  },
  {
   "cell_type": "markdown",
   "metadata": {},
   "source": [
    "Loading the raw logs and converting in an expected dataframe output"
   ]
  },
  {
   "cell_type": "code",
   "execution_count": 5,
   "metadata": {},
   "outputs": [
    {
     "name": "stderr",
     "output_type": "stream",
     "text": [
      "/var/folders/xr/9y_qxq8j3mzgvbyy734y4_pc0000gn/T/ipykernel_38959/2534735201.py:7: DtypeWarning: Columns (3) have mixed types. Specify dtype option on import or set low_memory=False.\n",
      "  df_log = pd.read_csv(folder_clean_data + '/' + file, sep=' ', encoding=raw_encoding, header=None, names=cols_raw_log,\n",
      "/var/folders/xr/9y_qxq8j3mzgvbyy734y4_pc0000gn/T/ipykernel_38959/2534735201.py:7: DtypeWarning: Columns (3) have mixed types. Specify dtype option on import or set low_memory=False.\n",
      "  df_log = pd.read_csv(folder_clean_data + '/' + file, sep=' ', encoding=raw_encoding, header=None, names=cols_raw_log,\n"
     ]
    }
   ],
   "source": [
    "def load_logs():\n",
    "    files = os.listdir(folder_raw_data)\n",
    "    files = [file for file in files if os.path.isfile(folder_raw_data + '/' + file)]\n",
    "    df_logs = pd.DataFrame(columns=cols_raw_log)\n",
    "    for file in files:\n",
    "        clean_raw_logs(file)\n",
    "        df_log = pd.read_csv(folder_clean_data + '/' + file, sep=' ', encoding=raw_encoding, header=None, names=cols_raw_log, \n",
    "                             on_bad_lines='skip') #'warn')\n",
    "        df_log = apply_data_type(df_log)\n",
    "        df_logs = pd.concat([df_logs, df_log], axis=0)\n",
    "    return df_logs\n",
    "\n",
    "df_loaded_logs = load_logs()\n"
   ]
  },
  {
   "cell_type": "code",
   "execution_count": 6,
   "metadata": {},
   "outputs": [
    {
     "data": {
      "text/html": [
       "<div>\n",
       "<style scoped>\n",
       "    .dataframe tbody tr th:only-of-type {\n",
       "        vertical-align: middle;\n",
       "    }\n",
       "\n",
       "    .dataframe tbody tr th {\n",
       "        vertical-align: top;\n",
       "    }\n",
       "\n",
       "    .dataframe thead th {\n",
       "        text-align: right;\n",
       "    }\n",
       "</style>\n",
       "<table border=\"1\" class=\"dataframe\">\n",
       "  <thead>\n",
       "    <tr style=\"text-align: right;\">\n",
       "      <th></th>\n",
       "      <th>host</th>\n",
       "      <th>timestamp</th>\n",
       "      <th>request</th>\n",
       "      <th>response</th>\n",
       "      <th>bytes</th>\n",
       "    </tr>\n",
       "  </thead>\n",
       "  <tbody>\n",
       "    <tr>\n",
       "      <th>0</th>\n",
       "      <td>199.72.81.55</td>\n",
       "      <td>1995-07-01 00:00:01</td>\n",
       "      <td>GET /history/apollo/ HTTP/1.0</td>\n",
       "      <td>200</td>\n",
       "      <td>6245</td>\n",
       "    </tr>\n",
       "    <tr>\n",
       "      <th>1</th>\n",
       "      <td>unicomp6.unicomp.net</td>\n",
       "      <td>1995-07-01 00:00:06</td>\n",
       "      <td>GET /shuttle/countdown/ HTTP/1.0</td>\n",
       "      <td>200</td>\n",
       "      <td>3985</td>\n",
       "    </tr>\n",
       "    <tr>\n",
       "      <th>2</th>\n",
       "      <td>199.120.110.21</td>\n",
       "      <td>1995-07-01 00:00:09</td>\n",
       "      <td>GET /shuttle/missions/sts-73/mission-sts-73.ht...</td>\n",
       "      <td>200</td>\n",
       "      <td>4085</td>\n",
       "    </tr>\n",
       "    <tr>\n",
       "      <th>3</th>\n",
       "      <td>burger.letters.com</td>\n",
       "      <td>1995-07-01 00:00:11</td>\n",
       "      <td>GET /shuttle/countdown/liftoff.html HTTP/1.0</td>\n",
       "      <td>304</td>\n",
       "      <td>0</td>\n",
       "    </tr>\n",
       "    <tr>\n",
       "      <th>4</th>\n",
       "      <td>199.120.110.21</td>\n",
       "      <td>1995-07-01 00:00:11</td>\n",
       "      <td>GET /shuttle/missions/sts-73/sts-73-patch-smal...</td>\n",
       "      <td>200</td>\n",
       "      <td>4179</td>\n",
       "    </tr>\n",
       "  </tbody>\n",
       "</table>\n",
       "</div>"
      ],
      "text/plain": [
       "                   host            timestamp  \\\n",
       "0          199.72.81.55  1995-07-01 00:00:01   \n",
       "1  unicomp6.unicomp.net  1995-07-01 00:00:06   \n",
       "2        199.120.110.21  1995-07-01 00:00:09   \n",
       "3    burger.letters.com  1995-07-01 00:00:11   \n",
       "4        199.120.110.21  1995-07-01 00:00:11   \n",
       "\n",
       "                                             request response bytes  \n",
       "0                      GET /history/apollo/ HTTP/1.0      200  6245  \n",
       "1                   GET /shuttle/countdown/ HTTP/1.0      200  3985  \n",
       "2  GET /shuttle/missions/sts-73/mission-sts-73.ht...      200  4085  \n",
       "3       GET /shuttle/countdown/liftoff.html HTTP/1.0      304     0  \n",
       "4  GET /shuttle/missions/sts-73/sts-73-patch-smal...      200  4179  "
      ]
     },
     "execution_count": 6,
     "metadata": {},
     "output_type": "execute_result"
    }
   ],
   "source": [
    "df_loaded_logs.head()"
   ]
  },
  {
   "cell_type": "code",
   "execution_count": 7,
   "metadata": {},
   "outputs": [
    {
     "data": {
      "text/plain": [
       "host         object\n",
       "timestamp    object\n",
       "request      object\n",
       "response     object\n",
       "bytes        object\n",
       "dtype: object"
      ]
     },
     "execution_count": 7,
     "metadata": {},
     "output_type": "execute_result"
    }
   ],
   "source": [
    "df_loaded_logs.dtypes"
   ]
  },
  {
   "cell_type": "markdown",
   "metadata": {},
   "source": [
    "## Clean dataset and identify features"
   ]
  },
  {
   "cell_type": "markdown",
   "metadata": {},
   "source": [
    "Identifying important variables in terms of answering the questions:\n",
    "1. *host*: identifying requester (to be used for grouping later).\n",
    "2. *timestamp*: indicator for specific times where experience was bad. \n",
    "    * To be used for grouping per day, hour, minutes. \n",
    "    * Year is irrelevant (as dataset is limited), but will be kept for flexibility.\n",
    "3. *request*: identifying the pages viewed/requested.\n",
    "    * Request method\n",
    "    * URL traversal path\n",
    "    * Page OR Resource OR None\n",
    "    * HTTP/1.0 is irrelevant (doesn't give insight because all requests use it for this dataset)\n",
    "4. *response*: identifies response codes\n",
    "    * nominal: success, redirect, not found\n",
    "    * more indicator may be needed to identify points for improvement. refer to https://en.wikipedia.org/wiki/List_of_HTTP_status_codes\n",
    "5. *bytes*: marginally irrelevant, except for explaining why certain pages may take a long time to load (however there are no other captured information available to validate this).\n",
    "    * threshold indicator to build case for potential point for improvement: CDN\n",
    "\n",
    "These will then be formed to data features"
   ]
  },
  {
   "cell_type": "code",
   "execution_count": 1,
   "metadata": {},
   "outputs": [
    {
     "name": "stderr",
     "output_type": "stream",
     "text": [
      "/var/folders/xr/9y_qxq8j3mzgvbyy734y4_pc0000gn/T/ipykernel_94265/553704414.py:25: DtypeWarning: Columns (3) have mixed types. Specify dtype option on import or set low_memory=False.\n",
      "  df_log = pd.read_csv(folder_clean_data + '/' + file, sep=' ', encoding=raw_encoding, header=None, names=cols_raw_log,\n",
      "/var/folders/xr/9y_qxq8j3mzgvbyy734y4_pc0000gn/T/ipykernel_94265/553704414.py:25: DtypeWarning: Columns (3) have mixed types. Specify dtype option on import or set low_memory=False.\n",
      "  df_log = pd.read_csv(folder_clean_data + '/' + file, sep=' ', encoding=raw_encoding, header=None, names=cols_raw_log,\n"
     ]
    },
    {
     "data": {
      "text/plain": [
       "host          137979\n",
       "timestamp    2075518\n",
       "request        32845\n",
       "response          15\n",
       "bytes          16502\n",
       "dtype: int64"
      ]
     },
     "execution_count": 1,
     "metadata": {},
     "output_type": "execute_result"
    }
   ],
   "source": [
    "import pandas as pd\n",
    "import numpy as np\n",
    "import os\n",
    "import matplotlib.pyplot as plt\n",
    "import matplotlib.dates as mdates\n",
    "import calendar\n",
    "\n",
    "folder_clean_data = '../data/cleaned'\n",
    "raw_encoding='iso-8859-1'\n",
    "\n",
    "cols_raw_log = ['host', 'timestamp', 'request', 'response', 'bytes']\n",
    "dtype_cols_raw_log = {'host': str, 'timestamp': np.datetime64, 'request': str, 'response': str, 'bytes': np.int64}\n",
    "\n",
    "def apply_data_type(df_logs):\n",
    "    df_logs['timestamp'] = pd.to_datetime(df_logs['timestamp'], format='%d/%b/%Y:%H:%M:%S')\n",
    "    df_logs['bytes'] = df_logs['bytes'].fillna(0)\n",
    "    df_logs = df_logs.astype(dtype_cols_raw_log)\n",
    "    return df_logs\n",
    "\n",
    "def load_cleaned_logs():\n",
    "    files = os.listdir(folder_clean_data)\n",
    "    files = [file for file in files if os.path.isfile(folder_clean_data + '/' + file)]\n",
    "    df_logs = pd.DataFrame(columns=cols_raw_log)\n",
    "    for file in files:\n",
    "        df_log = pd.read_csv(folder_clean_data + '/' + file, sep=' ', encoding=raw_encoding, header=None, names=cols_raw_log, \n",
    "                             on_bad_lines='skip') #'warn')\n",
    "        df_logs = pd.concat([df_logs, df_log], axis=0)\n",
    "    return apply_data_type(df_logs)\n",
    "\n",
    "df_cleaned_logs = load_cleaned_logs()\n",
    "df_cleaned_logs.nunique(axis=0)"
   ]
  },
  {
   "cell_type": "markdown",
   "metadata": {},
   "source": [
    "### Host\n",
    "\n",
    "* Insight idea: categorise the type of visitor based on url (e.g. government, education, commercial, etc)\n",
    "* Add Domain column\n",
    "* Insight idea: identify visiting countries"
   ]
  },
  {
   "cell_type": "code",
   "execution_count": 2,
   "metadata": {},
   "outputs": [],
   "source": [
    "def get_visitor_domain(url):\n",
    "    try:\n",
    "        domain_index = url.rindex('.')\n",
    "        domain = str(url[(domain_index + 1) :])\n",
    "        if domain.isdigit():\n",
    "            domain = None\n",
    "    except:\n",
    "        domain = None\n",
    "    return domain\n",
    "\n",
    "def categorise_visitor(domain):\n",
    "    switcher = {\n",
    "        'net': 'network',\n",
    "        'com': 'commercial',\n",
    "        'org': 'organisation',\n",
    "        'edu': 'education',\n",
    "        'gov': 'government',\n",
    "        'int': 'international',\n",
    "    }\n",
    "    domain_length = len(domain)\n",
    "    try:\n",
    "        if domain_length == 2:\n",
    "            category = 'country'\n",
    "        elif domain_length == 3:\n",
    "            category = switcher.get(domain, 'unknown')\n",
    "        else:\n",
    "            category = 'unknown'\n",
    "    except:\n",
    "        category = 'unknown'\n",
    "    return category"
   ]
  },
  {
   "cell_type": "code",
   "execution_count": 3,
   "metadata": {},
   "outputs": [
    {
     "name": "stdout",
     "output_type": "stream",
     "text": [
      "unique domains:  ['None' 'net' 'com' 'jp' 'au' 'edu' 'ca' 'org' 'gov' 'us' 'nz' 'uk' 'kr'\n",
      " 'ch' 'br' 'sg' 'it' 'mil' 'mx' 'nl' 'be' 'za' 'fr' 'de' 'my' 'tw' 'at'\n",
      " 'fi' 'se' 'id' 'il' 'es' 'no' 'int' 'su' 'ph' 'ie' 'th' 'gr' 'pt' 'dk'\n",
      " 'kw' 'ru' 'cl' 'cz' 'lv' 'arpa' 'lu' 'cr' 'co' 'tr' 'hr' 'bm' 'ua' 've'\n",
      " 'si' 'cn' 'ro' 'pl' 'hk' 'sk' 'is' 'ec' 'hu' 'gb' 'sa' 'li' 'ar' 'pa'\n",
      " 'pr' 'jm' 'in' 'ee' 'do' 'pe' 'fj' 'uy' 'xom' 'go' 'eg' 'ge' 'p' 'microd'\n",
      " 'mt' 'keri' 'rom' 'hps' 'gl' 'gu' 'cy' 'eecs' 'line4' 'line5' 'lt']\n"
     ]
    },
    {
     "data": {
      "text/plain": [
       "host        137979\n",
       "domain          94\n",
       "category         8\n",
       "dtype: int64"
      ]
     },
     "execution_count": 3,
     "metadata": {},
     "output_type": "execute_result"
    }
   ],
   "source": [
    "# create a new df to show who are the visitors\n",
    "df_visitors = pd.DataFrame(df_cleaned_logs['host'])\n",
    "\n",
    "# identify visitor profile through domain\n",
    "df_visitors['domain'] = df_visitors['host'].apply(get_visitor_domain).map(lambda x: str(x))\n",
    "print('unique domains: ', df_visitors['domain'].unique())\n",
    "\n",
    "df_visitors['category'] = df_visitors['domain'].apply(categorise_visitor).map(lambda x: str(x))\n",
    "df_visitors.nunique(axis=0)"
   ]
  },
  {
   "cell_type": "markdown",
   "metadata": {},
   "source": [
    "#### Top visitors (ranked)"
   ]
  },
  {
   "cell_type": "code",
   "execution_count": 4,
   "metadata": {},
   "outputs": [
    {
     "data": {
      "text/plain": [
       "host\n",
       "piweba3y.prodigy.com              21988\n",
       "piweba4y.prodigy.com              16437\n",
       "piweba1y.prodigy.com              12825\n",
       "edams.ksc.nasa.gov                11964\n",
       "163.206.89.4                       9697\n",
       "                                  ...  \n",
       "cu-dialup-1020.cit.cornell.edu        1\n",
       "141.211.112.25                        1\n",
       "161.119.239.163                       1\n",
       "kra.tiac.net                          1\n",
       "ds11.analogy.com                      1\n",
       "Name: host, Length: 137979, dtype: int64"
      ]
     },
     "execution_count": 4,
     "metadata": {},
     "output_type": "execute_result"
    }
   ],
   "source": [
    "# group by and count number of visits\n",
    "df_top_visitors = df_visitors.groupby(['host'])['host'].count().sort_values(ascending=False)\n",
    "df_top_visitors"
   ]
  },
  {
   "cell_type": "markdown",
   "metadata": {},
   "source": [
    "#### Type of visitors (distribution)\n",
    "1. Commercial\n",
    "2. Unknown - contains miscellaneous (e.g. CDN) request, unfamiliar domains, IP addresses\n",
    "3. Country - based on country-level top domain\n",
    "4. Education\n",
    "\n",
    "Interestingly, Government site visitors are on the 6th order."
   ]
  },
  {
   "cell_type": "code",
   "execution_count": 5,
   "metadata": {},
   "outputs": [
    {
     "name": "stderr",
     "output_type": "stream",
     "text": [
      "/var/folders/xr/9y_qxq8j3mzgvbyy734y4_pc0000gn/T/ipykernel_94265/1626320225.py:11: MatplotlibDeprecationWarning: The 'b' parameter of grid() has been renamed 'visible' since Matplotlib 3.5; support for the old name will be dropped two minor releases later.\n",
      "  ax.grid(b = True, color ='grey',\n"
     ]
    },
    {
     "data": {
      "image/png": "[encoded data removed]",
      "text/plain": [
       "<Figure size 1152x648 with 1 Axes>"
      ]
     },
     "metadata": {
      "needs_background": "light"
     },
     "output_type": "display_data"
    }
   ],
   "source": [
    "# group by and count number of visits\n",
    "df_top_visitors = df_visitors.groupby(['category'])['category'].count().sort_values(ascending=False).reset_index(name='count')\n",
    "\n",
    "# horizontal bar plot\n",
    "fig, ax = plt.subplots(figsize =(16, 9))\n",
    "ax.barh(df_top_visitors['category'], df_top_visitors['count'])\n",
    "# add padding for better visibility\n",
    "ax.xaxis.set_tick_params(pad = 3)\n",
    "ax.yaxis.set_tick_params(pad = 5)\n",
    "# Add x, y gridlines\n",
    "ax.grid(b = True, color ='grey',\n",
    "        linestyle ='-.', linewidth = 0.5,\n",
    "        alpha = 0.2)\n",
    "# sort descending order\n",
    "ax.invert_yaxis()\n",
    "# Add annotation to bars\n",
    "for i in ax.patches:   \n",
    "    plt.text(i.get_width()+0.2, i.get_y()+0.5, \n",
    "             str(round((i.get_width()), 2)),\n",
    "             fontsize = 10, fontweight ='bold',\n",
    "             color ='grey') \n",
    "# Add Plot Title\n",
    "ax.set_title('Types of visitors') \n",
    "plt.show()\n"
   ]
  },
  {
   "cell_type": "markdown",
   "metadata": {},
   "source": [
    "Visiting countries (represents only a SUBSET based on identifiable country top-level domain):\n",
    "1. Canada\n",
    "2. UK\n",
    "3. Japan\n",
    "4. Australia\n",
    "5. Germany\n"
   ]
  },
  {
   "cell_type": "code",
   "execution_count": 6,
   "metadata": {},
   "outputs": [
    {
     "name": "stderr",
     "output_type": "stream",
     "text": [
      "/var/folders/xr/9y_qxq8j3mzgvbyy734y4_pc0000gn/T/ipykernel_94265/3053753967.py:13: MatplotlibDeprecationWarning: The 'b' parameter of grid() has been renamed 'visible' since Matplotlib 3.5; support for the old name will be dropped two minor releases later.\n",
      "  ax.grid(b = True, color ='grey',\n"
     ]
    },
    {
     "data": {
      "image/png": "[encoded data removed]",
      "text/plain": [
       "<Figure size 720x1440 with 1 Axes>"
      ]
     },
     "metadata": {
      "needs_background": "light"
     },
     "output_type": "display_data"
    }
   ],
   "source": [
    "df_visitor_country = df_visitors.loc[df_visitors['category'] == 'country']\n",
    "df_visitor_country = df_visitor_country.filter(['domain'])\n",
    "df_visitor_country = df_visitor_country.groupby(['domain'])['domain'].count().sort_values(ascending=False).reset_index(name='count')\n",
    "df_visitor_country.head()\n",
    "\n",
    "# horizontal bar plot\n",
    "fig, ax = plt.subplots(figsize =(10, 20))\n",
    "ax.barh(df_visitor_country['domain'], df_visitor_country['count'])\n",
    "# add padding for better visibility\n",
    "ax.xaxis.set_tick_params(pad = 5)\n",
    "ax.yaxis.set_tick_params(pad = 10)\n",
    "# Add x, y gridlines\n",
    "ax.grid(b = True, color ='grey',\n",
    "        linestyle ='-.', linewidth = 0.5,\n",
    "        alpha = 0.2)\n",
    "# sort descending order\n",
    "ax.invert_yaxis()\n",
    "# Add annotation to bars\n",
    "for i in ax.patches:   \n",
    "    plt.text(i.get_width()+0.2, i.get_y()+0.5, \n",
    "             str(round((i.get_width()), 2)),\n",
    "             fontsize = 10, fontweight ='bold',\n",
    "             color ='grey') \n",
    "# Add Plot Title\n",
    "ax.set_title('Visitor Countries (subset only based on host domain)') \n",
    "plt.show()"
   ]
  },
  {
   "cell_type": "code",
   "execution_count": 7,
   "metadata": {},
   "outputs": [
    {
     "data": {
      "text/html": [
       "<div>\n",
       "<style scoped>\n",
       "    .dataframe tbody tr th:only-of-type {\n",
       "        vertical-align: middle;\n",
       "    }\n",
       "\n",
       "    .dataframe tbody tr th {\n",
       "        vertical-align: top;\n",
       "    }\n",
       "\n",
       "    .dataframe thead th {\n",
       "        text-align: right;\n",
       "    }\n",
       "</style>\n",
       "<table border=\"1\" class=\"dataframe\">\n",
       "  <thead>\n",
       "    <tr style=\"text-align: right;\">\n",
       "      <th></th>\n",
       "      <th>host</th>\n",
       "      <th>domain</th>\n",
       "      <th>category</th>\n",
       "    </tr>\n",
       "  </thead>\n",
       "  <tbody>\n",
       "    <tr>\n",
       "      <th>0</th>\n",
       "      <td>199.72.81.55</td>\n",
       "      <td>None</td>\n",
       "      <td>unknown</td>\n",
       "    </tr>\n",
       "    <tr>\n",
       "      <th>1</th>\n",
       "      <td>unicomp6.unicomp.net</td>\n",
       "      <td>net</td>\n",
       "      <td>network</td>\n",
       "    </tr>\n",
       "    <tr>\n",
       "      <th>2</th>\n",
       "      <td>199.120.110.21</td>\n",
       "      <td>None</td>\n",
       "      <td>unknown</td>\n",
       "    </tr>\n",
       "    <tr>\n",
       "      <th>3</th>\n",
       "      <td>burger.letters.com</td>\n",
       "      <td>com</td>\n",
       "      <td>commercial</td>\n",
       "    </tr>\n",
       "    <tr>\n",
       "      <th>4</th>\n",
       "      <td>199.120.110.21</td>\n",
       "      <td>None</td>\n",
       "      <td>unknown</td>\n",
       "    </tr>\n",
       "    <tr>\n",
       "      <th>...</th>\n",
       "      <td>...</td>\n",
       "      <td>...</td>\n",
       "      <td>...</td>\n",
       "    </tr>\n",
       "    <tr>\n",
       "      <th>1569891</th>\n",
       "      <td>gatekeeper.uccu.com</td>\n",
       "      <td>com</td>\n",
       "      <td>commercial</td>\n",
       "    </tr>\n",
       "    <tr>\n",
       "      <th>1569892</th>\n",
       "      <td>gatekeeper.uccu.com</td>\n",
       "      <td>com</td>\n",
       "      <td>commercial</td>\n",
       "    </tr>\n",
       "    <tr>\n",
       "      <th>1569893</th>\n",
       "      <td>cys-cap-9.wyoming.com</td>\n",
       "      <td>com</td>\n",
       "      <td>commercial</td>\n",
       "    </tr>\n",
       "    <tr>\n",
       "      <th>1569894</th>\n",
       "      <td>www-c8.proxy.aol.com</td>\n",
       "      <td>com</td>\n",
       "      <td>commercial</td>\n",
       "    </tr>\n",
       "    <tr>\n",
       "      <th>1569895</th>\n",
       "      <td>cindy.yamato.ibm.co.jp</td>\n",
       "      <td>jp</td>\n",
       "      <td>country</td>\n",
       "    </tr>\n",
       "  </tbody>\n",
       "</table>\n",
       "<p>3461610 rows × 3 columns</p>\n",
       "</div>"
      ],
      "text/plain": [
       "                           host domain    category\n",
       "0                  199.72.81.55   None     unknown\n",
       "1          unicomp6.unicomp.net    net     network\n",
       "2                199.120.110.21   None     unknown\n",
       "3            burger.letters.com    com  commercial\n",
       "4                199.120.110.21   None     unknown\n",
       "...                         ...    ...         ...\n",
       "1569891     gatekeeper.uccu.com    com  commercial\n",
       "1569892     gatekeeper.uccu.com    com  commercial\n",
       "1569893   cys-cap-9.wyoming.com    com  commercial\n",
       "1569894    www-c8.proxy.aol.com    com  commercial\n",
       "1569895  cindy.yamato.ibm.co.jp     jp     country\n",
       "\n",
       "[3461610 rows x 3 columns]"
      ]
     },
     "execution_count": 7,
     "metadata": {},
     "output_type": "execute_result"
    }
   ],
   "source": [
    "# Dataframe resulting from host analysis\n",
    "df_visitors"
   ]
  },
  {
   "cell_type": "markdown",
   "metadata": {},
   "source": [
    "### Timestamp\n",
    "* Add Month column\n",
    "* Add Day column\n",
    "* Add Hour column\n",
    "* Add Mins column\n",
    "* Nominal category: AM or PM\n",
    "* Nominal category: day of the week\n",
    "* Insight idea: show trends based on:\n",
    "    * busiest day of all time (within 2 months of 1995)\n",
    "    * most visited day in a week\n",
    "    * busiest hour in a day (can help inform the right time for website updates)"
   ]
  },
  {
   "cell_type": "code",
   "execution_count": 8,
   "metadata": {},
   "outputs": [
    {
     "data": {
      "text/plain": [
       "timestamp    2075518\n",
       "date              58\n",
       "month              2\n",
       "day               31\n",
       "hour              24\n",
       "minutes           60\n",
       "dayofweek          7\n",
       "dayperiod          2\n",
       "dtype: int64"
      ]
     },
     "execution_count": 8,
     "metadata": {},
     "output_type": "execute_result"
    }
   ],
   "source": [
    "# create a new df for breaking down timestamp\n",
    "df_timestamp = pd.DataFrame(df_cleaned_logs['timestamp'])\n",
    "\n",
    "df_timestamp['date'] = df_timestamp['timestamp'].dt.date\n",
    "\n",
    "# extract month, date, hour, minutes, day of week\n",
    "df_timestamp['month'] = df_timestamp['timestamp'].dt.month\n",
    "df_timestamp['day'] = df_timestamp['timestamp'].dt.day\n",
    "df_timestamp['hour'] = df_timestamp['timestamp'].dt.hour\n",
    "df_timestamp['minutes'] = df_timestamp['timestamp'].dt.minute\n",
    "df_timestamp['dayofweek'] = df_timestamp['timestamp'].dt.day_of_week\n",
    "\n",
    "# Get a map to translate month\n",
    "m = dict(zip(range(12),list(calendar.month_name)))\n",
    "df_timestamp['month'] = df_timestamp['month'].map(m)\n",
    "\n",
    "# Get a map to translate to day of week\n",
    "d = dict(zip(range(7),list(calendar.day_name)))\n",
    "df_timestamp['dayofweek'] = df_timestamp['dayofweek'].map(d)\n",
    "\n",
    "# AM/PM category\n",
    "df_timestamp['dayperiod'] = df_timestamp['hour'].apply(lambda x: 'AM' if x < 12 else 'PM')\n",
    "\n",
    "# output of this will validate it looks right\n",
    "df_timestamp.nunique(axis=0)"
   ]
  },
  {
   "cell_type": "markdown",
   "metadata": {},
   "source": [
    "#### Trend Analysis\n",
    "\n",
    "The busiest days across the 2 month data set -- **TODO: try to see and explain what happened on those days**"
   ]
  },
  {
   "cell_type": "code",
   "execution_count": 9,
   "metadata": {},
   "outputs": [
    {
     "data": {
      "image/png": "[encoded data removed]",
      "text/plain": [
       "<Figure size 1152x648 with 1 Axes>"
      ]
     },
     "metadata": {
      "needs_background": "light"
     },
     "output_type": "display_data"
    }
   ],
   "source": [
    "df_timestamp_days = df_timestamp.groupby(['date'])['date'].count().reset_index(name='visits')\n",
    "\n",
    "# plot line chart\n",
    "fig, ax = plt.subplots(figsize =(16, 9))\n",
    "ax.plot(df_timestamp_days['date'], df_timestamp_days['visits'])\n",
    "\n",
    "# Major ticks every half-month\n",
    "ax.xaxis.set_major_locator(mdates.DayLocator(bymonthday=(1, 15)))\n",
    "ax.grid(True)\n",
    "ax.set_ylabel('visits')\n",
    "ax.set_title('Visit trends per day (during Jul & Aug 1995)', fontsize='medium')\n",
    "# Text in the x-axis.\n",
    "ax.xaxis.set_major_formatter(mdates.DateFormatter('%d/%b'))\n",
    "# Rotates and right-aligns the x labels so they don't crowd each other.\n",
    "for label in ax.get_xticklabels(which='major'):\n",
    "    label.set(rotation=30, horizontalalignment='right')\n",
    "\n",
    "#annotate pertinent dates in data with visits greater than 90k\n",
    "annotated_data = df_timestamp_days[df_timestamp_days['visits'] > 90000]\n",
    "# Annotate data points\n",
    "for index, row in annotated_data.iterrows():\n",
    "    ax.annotate(row['date'].strftime('%d/%b'), \n",
    "                xy=(row['date'], row['visits']), color='red')\n",
    "\n",
    "plt.show()"
   ]
  },
  {
   "cell_type": "markdown",
   "metadata": {},
   "source": [
    "Days of the week access trends\n",
    "* Thursdays are the busiest on both months -- **TODO: try to analyse on the type of requests**\n",
    "* Weekends are relatively quieter than the weekdays"
   ]
  },
  {
   "cell_type": "code",
   "execution_count": 10,
   "metadata": {},
   "outputs": [
    {
     "data": {
      "text/plain": [
       "Text(0.5, 1.0, 'Day of week visit trends (during Jul & Aug 1995)')"
      ]
     },
     "execution_count": 10,
     "metadata": {},
     "output_type": "execute_result"
    },
    {
     "data": {
      "image/png": "[encoded data removed]",
      "text/plain": [
       "<Figure size 432x288 with 1 Axes>"
      ]
     },
     "metadata": {
      "needs_background": "light"
     },
     "output_type": "display_data"
    }
   ],
   "source": [
    "df_timestamp_days = df_timestamp.groupby(['dayofweek', 'month'])['dayofweek'].count().reset_index(name='visits')\n",
    "\n",
    "day_order = ['Monday', 'Tuesday', 'Wednesday', 'Thursday', 'Friday', 'Saturday', 'Sunday']\n",
    "ax = pd.pivot_table(df_timestamp_days.reset_index(),\n",
    "               index='dayofweek', columns='month', values='visits'\n",
    "              ).loc[day_order].plot(kind='bar')\n",
    "\n",
    "ax.set_ylabel('visits')\n",
    "ax.set_xlabel('')\n",
    "ax.set_title('Day of week visit trends (during Jul & Aug 1995)', fontsize='medium')"
   ]
  },
  {
   "cell_type": "markdown",
   "metadata": {},
   "source": [
    "Hours in a day access trends\n",
    "* Follows standard business hours activity (between 8am - 6pm)\n",
    "* Busiest late after lunch\n",
    "* Least activity on wee hours of the morning (4 - 6am) -- best time to do any patches\n",
    "    * however, worthwhile to do further digging on the sites frequently visited during these timeframe to aid update rollouts."
   ]
  },
  {
   "cell_type": "code",
   "execution_count": 29,
   "metadata": {},
   "outputs": [
    {
     "data": {
      "text/plain": [
       "Text(0.5, 1.0, 'Hour of day visit trends (during Jul & Aug 1995)')"
      ]
     },
     "execution_count": 29,
     "metadata": {},
     "output_type": "execute_result"
    },
    {
     "data": {
      "image/png": "[encoded data removed]",
      "text/plain": [
       "<Figure size 720x432 with 1 Axes>"
      ]
     },
     "metadata": {
      "needs_background": "light"
     },
     "output_type": "display_data"
    }
   ],
   "source": [
    "df_timestamp_days = df_timestamp.groupby(['hour', 'month'])['hour'].count().reset_index(name='visits')\n",
    "\n",
    "ax = pd.pivot_table(df_timestamp_days.reset_index(),\n",
    "               index='hour', columns='month', values='visits'\n",
    "              ).plot(kind='line')\n",
    "\n",
    "ax.figure.set_size_inches(10, 6)\n",
    "ax.set_ylabel('visits')\n",
    "ax.set_xlabel('Hour of day')\n",
    "ax.set_title('Hour of day visit trends (during Jul & Aug 1995)', fontsize='medium')"
   ]
  },
  {
   "cell_type": "code",
   "execution_count": 12,
   "metadata": {},
   "outputs": [
    {
     "data": {
      "text/html": [
       "<div>\n",
       "<style scoped>\n",
       "    .dataframe tbody tr th:only-of-type {\n",
       "        vertical-align: middle;\n",
       "    }\n",
       "\n",
       "    .dataframe tbody tr th {\n",
       "        vertical-align: top;\n",
       "    }\n",
       "\n",
       "    .dataframe thead th {\n",
       "        text-align: right;\n",
       "    }\n",
       "</style>\n",
       "<table border=\"1\" class=\"dataframe\">\n",
       "  <thead>\n",
       "    <tr style=\"text-align: right;\">\n",
       "      <th></th>\n",
       "      <th>timestamp</th>\n",
       "      <th>date</th>\n",
       "      <th>month</th>\n",
       "      <th>day</th>\n",
       "      <th>hour</th>\n",
       "      <th>minutes</th>\n",
       "      <th>dayofweek</th>\n",
       "      <th>dayperiod</th>\n",
       "    </tr>\n",
       "  </thead>\n",
       "  <tbody>\n",
       "    <tr>\n",
       "      <th>0</th>\n",
       "      <td>1995-07-01 00:00:01</td>\n",
       "      <td>1995-07-01</td>\n",
       "      <td>July</td>\n",
       "      <td>1.0</td>\n",
       "      <td>0.0</td>\n",
       "      <td>0.0</td>\n",
       "      <td>Saturday</td>\n",
       "      <td>AM</td>\n",
       "    </tr>\n",
       "    <tr>\n",
       "      <th>1</th>\n",
       "      <td>1995-07-01 00:00:06</td>\n",
       "      <td>1995-07-01</td>\n",
       "      <td>July</td>\n",
       "      <td>1.0</td>\n",
       "      <td>0.0</td>\n",
       "      <td>0.0</td>\n",
       "      <td>Saturday</td>\n",
       "      <td>AM</td>\n",
       "    </tr>\n",
       "    <tr>\n",
       "      <th>2</th>\n",
       "      <td>1995-07-01 00:00:09</td>\n",
       "      <td>1995-07-01</td>\n",
       "      <td>July</td>\n",
       "      <td>1.0</td>\n",
       "      <td>0.0</td>\n",
       "      <td>0.0</td>\n",
       "      <td>Saturday</td>\n",
       "      <td>AM</td>\n",
       "    </tr>\n",
       "    <tr>\n",
       "      <th>3</th>\n",
       "      <td>1995-07-01 00:00:11</td>\n",
       "      <td>1995-07-01</td>\n",
       "      <td>July</td>\n",
       "      <td>1.0</td>\n",
       "      <td>0.0</td>\n",
       "      <td>0.0</td>\n",
       "      <td>Saturday</td>\n",
       "      <td>AM</td>\n",
       "    </tr>\n",
       "    <tr>\n",
       "      <th>4</th>\n",
       "      <td>1995-07-01 00:00:11</td>\n",
       "      <td>1995-07-01</td>\n",
       "      <td>July</td>\n",
       "      <td>1.0</td>\n",
       "      <td>0.0</td>\n",
       "      <td>0.0</td>\n",
       "      <td>Saturday</td>\n",
       "      <td>AM</td>\n",
       "    </tr>\n",
       "    <tr>\n",
       "      <th>...</th>\n",
       "      <td>...</td>\n",
       "      <td>...</td>\n",
       "      <td>...</td>\n",
       "      <td>...</td>\n",
       "      <td>...</td>\n",
       "      <td>...</td>\n",
       "      <td>...</td>\n",
       "      <td>...</td>\n",
       "    </tr>\n",
       "    <tr>\n",
       "      <th>1569891</th>\n",
       "      <td>1995-08-31 23:59:49</td>\n",
       "      <td>1995-08-31</td>\n",
       "      <td>August</td>\n",
       "      <td>31.0</td>\n",
       "      <td>23.0</td>\n",
       "      <td>59.0</td>\n",
       "      <td>Thursday</td>\n",
       "      <td>PM</td>\n",
       "    </tr>\n",
       "    <tr>\n",
       "      <th>1569892</th>\n",
       "      <td>1995-08-31 23:59:49</td>\n",
       "      <td>1995-08-31</td>\n",
       "      <td>August</td>\n",
       "      <td>31.0</td>\n",
       "      <td>23.0</td>\n",
       "      <td>59.0</td>\n",
       "      <td>Thursday</td>\n",
       "      <td>PM</td>\n",
       "    </tr>\n",
       "    <tr>\n",
       "      <th>1569893</th>\n",
       "      <td>1995-08-31 23:59:52</td>\n",
       "      <td>1995-08-31</td>\n",
       "      <td>August</td>\n",
       "      <td>31.0</td>\n",
       "      <td>23.0</td>\n",
       "      <td>59.0</td>\n",
       "      <td>Thursday</td>\n",
       "      <td>PM</td>\n",
       "    </tr>\n",
       "    <tr>\n",
       "      <th>1569894</th>\n",
       "      <td>1995-08-31 23:59:52</td>\n",
       "      <td>1995-08-31</td>\n",
       "      <td>August</td>\n",
       "      <td>31.0</td>\n",
       "      <td>23.0</td>\n",
       "      <td>59.0</td>\n",
       "      <td>Thursday</td>\n",
       "      <td>PM</td>\n",
       "    </tr>\n",
       "    <tr>\n",
       "      <th>1569895</th>\n",
       "      <td>1995-08-31 23:59:53</td>\n",
       "      <td>1995-08-31</td>\n",
       "      <td>August</td>\n",
       "      <td>31.0</td>\n",
       "      <td>23.0</td>\n",
       "      <td>59.0</td>\n",
       "      <td>Thursday</td>\n",
       "      <td>PM</td>\n",
       "    </tr>\n",
       "  </tbody>\n",
       "</table>\n",
       "<p>3461610 rows × 8 columns</p>\n",
       "</div>"
      ],
      "text/plain": [
       "                  timestamp        date   month   day  hour  minutes  \\\n",
       "0       1995-07-01 00:00:01  1995-07-01    July   1.0   0.0      0.0   \n",
       "1       1995-07-01 00:00:06  1995-07-01    July   1.0   0.0      0.0   \n",
       "2       1995-07-01 00:00:09  1995-07-01    July   1.0   0.0      0.0   \n",
       "3       1995-07-01 00:00:11  1995-07-01    July   1.0   0.0      0.0   \n",
       "4       1995-07-01 00:00:11  1995-07-01    July   1.0   0.0      0.0   \n",
       "...                     ...         ...     ...   ...   ...      ...   \n",
       "1569891 1995-08-31 23:59:49  1995-08-31  August  31.0  23.0     59.0   \n",
       "1569892 1995-08-31 23:59:49  1995-08-31  August  31.0  23.0     59.0   \n",
       "1569893 1995-08-31 23:59:52  1995-08-31  August  31.0  23.0     59.0   \n",
       "1569894 1995-08-31 23:59:52  1995-08-31  August  31.0  23.0     59.0   \n",
       "1569895 1995-08-31 23:59:53  1995-08-31  August  31.0  23.0     59.0   \n",
       "\n",
       "        dayofweek dayperiod  \n",
       "0        Saturday        AM  \n",
       "1        Saturday        AM  \n",
       "2        Saturday        AM  \n",
       "3        Saturday        AM  \n",
       "4        Saturday        AM  \n",
       "...           ...       ...  \n",
       "1569891  Thursday        PM  \n",
       "1569892  Thursday        PM  \n",
       "1569893  Thursday        PM  \n",
       "1569894  Thursday        PM  \n",
       "1569895  Thursday        PM  \n",
       "\n",
       "[3461610 rows x 8 columns]"
      ]
     },
     "execution_count": 12,
     "metadata": {},
     "output_type": "execute_result"
    }
   ],
   "source": [
    "# Dataframe resulting from timestamp analysis\n",
    "df_timestamp"
   ]
  },
  {
   "cell_type": "markdown",
   "metadata": {},
   "source": [
    "### Request\n",
    "* Request method\n",
    "* URL traversal path\n",
    "* Page OR Resource OR None\n",
    "* HTTP/1.0 is irrelevant (doesn't give insight because all requests use it for this dataset)"
   ]
  },
  {
   "cell_type": "code",
   "execution_count": 13,
   "metadata": {},
   "outputs": [
    {
     "data": {
      "text/plain": [
       "0                        GET /history/apollo/ HTTP/1.0\n",
       "1                     GET /shuttle/countdown/ HTTP/1.0\n",
       "2    GET /shuttle/missions/sts-73/mission-sts-73.ht...\n",
       "3         GET /shuttle/countdown/liftoff.html HTTP/1.0\n",
       "4    GET /shuttle/missions/sts-73/sts-73-patch-smal...\n",
       "Name: request, dtype: object"
      ]
     },
     "execution_count": 13,
     "metadata": {},
     "output_type": "execute_result"
    }
   ],
   "source": [
    "df_cleaned_logs['request'].head()"
   ]
  },
  {
   "cell_type": "code",
   "execution_count": 14,
   "metadata": {},
   "outputs": [
    {
     "data": {
      "text/plain": [
       "request      32845\n",
       "reqmethod       12\n",
       "requrl       31053\n",
       "dtype: int64"
      ]
     },
     "execution_count": 14,
     "metadata": {},
     "output_type": "execute_result"
    }
   ],
   "source": [
    "def parse_method(req):\n",
    "    try:\n",
    "        method = req.split(' ')[0]\n",
    "        #method = request[0]\n",
    "        #protocol = request[2]   # irrelevant and won't be used\n",
    "    except:\n",
    "        method = None\n",
    "    return method\n",
    "\n",
    "def parse_url(req):\n",
    "    try:\n",
    "        url = req.split(' ')[1]\n",
    "        #url = request[1]\n",
    "        #protocol = request[2]   # irrelevant and won't be used\n",
    "    except:\n",
    "        url = None\n",
    "    return url\n",
    "\n",
    "# create a new df for breaking down request\n",
    "df_request = pd.DataFrame(df_cleaned_logs['request'])\n",
    "\n",
    "df_request['reqmethod'] = df_request['request'].apply(parse_method).map(lambda x: str(x))\n",
    "df_request['requrl'] = df_request['request'].apply(parse_url).map(lambda x: str(x))\n",
    "\n",
    "# output of this will validate it looks right\n",
    "df_request.nunique(axis=0)"
   ]
  },
  {
   "cell_type": "code",
   "execution_count": 15,
   "metadata": {},
   "outputs": [
    {
     "data": {
      "text/plain": [
       "array(['GET', 'HEAD', 'POST', '\\x05\\x01', '1/history/apollo/images/',\n",
       "       'k\\x83û\\x03tx\\x83û\\x04tG\\x83û\\x07tÍ\\x83û', 'nan',\n",
       "       '\\x16±\\x02\\x896\\x9e\\x02ÿT7\\x89F\\x10ÃÇF\\x10\\x01',\n",
       "       'huttle/countdown/', 'ýÑí.\\x8a\\x0b2í.\\x8b>î', '?',\n",
       "       \"\\x80|\\x05\\x11t\\x03°9Ã°'Ã\\x80|\\x05\\x11u\\x0b&÷G\\x18\\x01\"],\n",
       "      dtype=object)"
      ]
     },
     "execution_count": 15,
     "metadata": {},
     "output_type": "execute_result"
    }
   ],
   "source": [
    "df_request['reqmethod'].unique()\n",
    "#TODO"
   ]
  },
  {
   "cell_type": "code",
   "execution_count": 16,
   "metadata": {},
   "outputs": [
    {
     "data": {
      "text/html": [
       "<div>\n",
       "<style scoped>\n",
       "    .dataframe tbody tr th:only-of-type {\n",
       "        vertical-align: middle;\n",
       "    }\n",
       "\n",
       "    .dataframe tbody tr th {\n",
       "        vertical-align: top;\n",
       "    }\n",
       "\n",
       "    .dataframe thead th {\n",
       "        text-align: right;\n",
       "    }\n",
       "</style>\n",
       "<table border=\"1\" class=\"dataframe\">\n",
       "  <thead>\n",
       "    <tr style=\"text-align: right;\">\n",
       "      <th></th>\n",
       "      <th>request</th>\n",
       "      <th>reqmethod</th>\n",
       "      <th>requrl</th>\n",
       "    </tr>\n",
       "  </thead>\n",
       "  <tbody>\n",
       "    <tr>\n",
       "      <th>0</th>\n",
       "      <td>GET /history/apollo/ HTTP/1.0</td>\n",
       "      <td>GET</td>\n",
       "      <td>/history/apollo/</td>\n",
       "    </tr>\n",
       "    <tr>\n",
       "      <th>1</th>\n",
       "      <td>GET /shuttle/countdown/ HTTP/1.0</td>\n",
       "      <td>GET</td>\n",
       "      <td>/shuttle/countdown/</td>\n",
       "    </tr>\n",
       "    <tr>\n",
       "      <th>2</th>\n",
       "      <td>GET /shuttle/missions/sts-73/mission-sts-73.ht...</td>\n",
       "      <td>GET</td>\n",
       "      <td>/shuttle/missions/sts-73/mission-sts-73.html</td>\n",
       "    </tr>\n",
       "    <tr>\n",
       "      <th>3</th>\n",
       "      <td>GET /shuttle/countdown/liftoff.html HTTP/1.0</td>\n",
       "      <td>GET</td>\n",
       "      <td>/shuttle/countdown/liftoff.html</td>\n",
       "    </tr>\n",
       "    <tr>\n",
       "      <th>4</th>\n",
       "      <td>GET /shuttle/missions/sts-73/sts-73-patch-smal...</td>\n",
       "      <td>GET</td>\n",
       "      <td>/shuttle/missions/sts-73/sts-73-patch-small.gif</td>\n",
       "    </tr>\n",
       "    <tr>\n",
       "      <th>...</th>\n",
       "      <td>...</td>\n",
       "      <td>...</td>\n",
       "      <td>...</td>\n",
       "    </tr>\n",
       "    <tr>\n",
       "      <th>1569891</th>\n",
       "      <td>GET /images/ksclogosmall.gif HTTP/1.0</td>\n",
       "      <td>GET</td>\n",
       "      <td>/images/ksclogosmall.gif</td>\n",
       "    </tr>\n",
       "    <tr>\n",
       "      <th>1569892</th>\n",
       "      <td>GET /images/lc39a-logo.gif HTTP/1.0</td>\n",
       "      <td>GET</td>\n",
       "      <td>/images/lc39a-logo.gif</td>\n",
       "    </tr>\n",
       "    <tr>\n",
       "      <th>1569893</th>\n",
       "      <td>GET /shuttle/missions/sts-71/movies/sts-71-lau...</td>\n",
       "      <td>GET</td>\n",
       "      <td>/shuttle/missions/sts-71/movies/sts-71-launch-...</td>\n",
       "    </tr>\n",
       "    <tr>\n",
       "      <th>1569894</th>\n",
       "      <td>GET /icons/unknown.xbm HTTP/1.0</td>\n",
       "      <td>GET</td>\n",
       "      <td>/icons/unknown.xbm</td>\n",
       "    </tr>\n",
       "    <tr>\n",
       "      <th>1569895</th>\n",
       "      <td>GET /images/kscmap-small.gif HTTP/1.0</td>\n",
       "      <td>GET</td>\n",
       "      <td>/images/kscmap-small.gif</td>\n",
       "    </tr>\n",
       "  </tbody>\n",
       "</table>\n",
       "<p>3461610 rows × 3 columns</p>\n",
       "</div>"
      ],
      "text/plain": [
       "                                                   request reqmethod  \\\n",
       "0                            GET /history/apollo/ HTTP/1.0       GET   \n",
       "1                         GET /shuttle/countdown/ HTTP/1.0       GET   \n",
       "2        GET /shuttle/missions/sts-73/mission-sts-73.ht...       GET   \n",
       "3             GET /shuttle/countdown/liftoff.html HTTP/1.0       GET   \n",
       "4        GET /shuttle/missions/sts-73/sts-73-patch-smal...       GET   \n",
       "...                                                    ...       ...   \n",
       "1569891              GET /images/ksclogosmall.gif HTTP/1.0       GET   \n",
       "1569892                GET /images/lc39a-logo.gif HTTP/1.0       GET   \n",
       "1569893  GET /shuttle/missions/sts-71/movies/sts-71-lau...       GET   \n",
       "1569894                    GET /icons/unknown.xbm HTTP/1.0       GET   \n",
       "1569895              GET /images/kscmap-small.gif HTTP/1.0       GET   \n",
       "\n",
       "                                                    requrl  \n",
       "0                                         /history/apollo/  \n",
       "1                                      /shuttle/countdown/  \n",
       "2             /shuttle/missions/sts-73/mission-sts-73.html  \n",
       "3                          /shuttle/countdown/liftoff.html  \n",
       "4          /shuttle/missions/sts-73/sts-73-patch-small.gif  \n",
       "...                                                    ...  \n",
       "1569891                           /images/ksclogosmall.gif  \n",
       "1569892                             /images/lc39a-logo.gif  \n",
       "1569893  /shuttle/missions/sts-71/movies/sts-71-launch-...  \n",
       "1569894                                 /icons/unknown.xbm  \n",
       "1569895                           /images/kscmap-small.gif  \n",
       "\n",
       "[3461610 rows x 3 columns]"
      ]
     },
     "execution_count": 16,
     "metadata": {},
     "output_type": "execute_result"
    }
   ],
   "source": [
    "# Dataframe resulting from request analysis\n",
    "df_request"
   ]
  },
  {
   "cell_type": "markdown",
   "metadata": {},
   "source": [
    "### Response\n",
    "* nominal: success, redirect, not found\n",
    "    * more indicator may be needed to identify points for improvement. refer to https://en.wikipedia.org/wiki/List_of_HTTP_status_codes"
   ]
  },
  {
   "cell_type": "code",
   "execution_count": 36,
   "metadata": {},
   "outputs": [
    {
     "data": {
      "text/plain": [
       "array([200., 304., 302., 404., 403., 400., 500., 501.])"
      ]
     },
     "execution_count": 36,
     "metadata": {},
     "output_type": "execute_result"
    }
   ],
   "source": [
    "df_response = pd.DataFrame(\n",
    "    pd.to_numeric(df_cleaned_logs['response'], errors='coerce', downcast='integer'))\n",
    "\n",
    "df_response['response'] = df_response['response'].fillna(400)\n",
    "\n",
    "df_response['response'].unique()\n"
   ]
  },
  {
   "cell_type": "markdown",
   "metadata": {},
   "source": [
    "Log entries that have anomalous parsed http response are defaulted to 404 NOT FOUND. Justification - it reflects the user's likely experience that they were not able to retrieve the page they're looking for."
   ]
  },
  {
   "cell_type": "code",
   "execution_count": 40,
   "metadata": {},
   "outputs": [
    {
     "data": {
      "text/plain": [
       "array(['OK', 'Not Modified', 'Found', 'Not Found', 'Forbidden',\n",
       "       'Bad Request', 'Internal Server Error', 'Not Implemented'],\n",
       "      dtype=object)"
      ]
     },
     "execution_count": 40,
     "metadata": {},
     "output_type": "execute_result"
    }
   ],
   "source": [
    "from http import HTTPStatus\n",
    "\n",
    "def convert_response_code(code):\n",
    "    try:\n",
    "        status = HTTPStatus(code).phrase\n",
    "    except:\n",
    "        status = HTTPStatus.NOT_FOUND.phrase #None\n",
    "    return status\n",
    "\n",
    "df_response['rescode'] = df_response['response'].apply(convert_response_code).map(lambda x: str(x))\n",
    "\n",
    "df_response['rescode'].unique()"
   ]
  },
  {
   "cell_type": "markdown",
   "metadata": {},
   "source": [
    "Distribution of response codes across 2 month timeframe."
   ]
  },
  {
   "cell_type": "code",
   "execution_count": 43,
   "metadata": {},
   "outputs": [
    {
     "data": {
      "image/png": "[encoded data removed]",
      "text/plain": [
       "<Figure size 720x720 with 2 Axes>"
      ]
     },
     "metadata": {},
     "output_type": "display_data"
    }
   ],
   "source": [
    "# group by and count number of visits\n",
    "df_top_responses = df_response.groupby(['rescode'])['rescode'].count().sort_values(ascending=False).reset_index(name='count')\n",
    "\n",
    "# horizontal bar plot\n",
    "fig, (ax1, ax2) = plt.subplots(nrows=1, ncols=2,figsize=(10,10))\n",
    "labels = df_top_responses['rescode']\n",
    "values = df_top_responses['count'] / len(df_top_responses)\n",
    "ax1.pie(values, labels = labels, autopct = '%1.1f%%') #plot first pie\n",
    "ax1.set_title('Successful response codes distribution - 200, 300')\n",
    "\n",
    "df_top_responses_sans_ok = df_top_responses[df_top_responses['rescode'] != 'OK']\n",
    "\n",
    "labels = df_top_responses_sans_ok['rescode']\n",
    "values = df_top_responses_sans_ok['count'] / len(df_top_responses_sans_ok)\n",
    "ax2.pie(values,labels = labels, autopct = '%1.1f%%') #plot second pie\n",
    "ax2.set_title('Unsuccessful response codes - 400, 500')\n",
    "#ax.pie(df_top_responses['count'], labels=df_top_responses['rescode'])\n",
    "\n",
    "# Add Plot Title\n",
    "ax.set_title('Response status') \n",
    "plt.show()"
   ]
  },
  {
   "cell_type": "code",
   "execution_count": null,
   "metadata": {},
   "outputs": [],
   "source": [
    "# add padding for better visibility\n",
    "ax.xaxis.set_tick_params(pad = 3)\n",
    "ax.yaxis.set_tick_params(pad = 5)\n",
    "# Add x, y gridlines\n",
    "ax.grid(b = True, color ='grey', linestyle ='-.', linewidth = 0.5, alpha = 0.2)\n",
    "# sort descending order\n",
    "ax.invert_yaxis()\n",
    "# Add annotation to bars\n",
    "for i in ax.patches:   \n",
    "    plt.text(i.get_width()+0.2, i.get_y()+0.5, \n",
    "             str(round((i.get_width()), 2)),\n",
    "             fontsize = 10, fontweight ='bold',\n",
    "             color ='grey') "
   ]
  },
  {
   "cell_type": "code",
   "execution_count": 20,
   "metadata": {},
   "outputs": [
    {
     "data": {
      "text/html": [
       "<div>\n",
       "<style scoped>\n",
       "    .dataframe tbody tr th:only-of-type {\n",
       "        vertical-align: middle;\n",
       "    }\n",
       "\n",
       "    .dataframe tbody tr th {\n",
       "        vertical-align: top;\n",
       "    }\n",
       "\n",
       "    .dataframe thead th {\n",
       "        text-align: right;\n",
       "    }\n",
       "</style>\n",
       "<table border=\"1\" class=\"dataframe\">\n",
       "  <thead>\n",
       "    <tr style=\"text-align: right;\">\n",
       "      <th></th>\n",
       "      <th>response</th>\n",
       "      <th>rescode</th>\n",
       "    </tr>\n",
       "  </thead>\n",
       "  <tbody>\n",
       "    <tr>\n",
       "      <th>0</th>\n",
       "      <td>200.0</td>\n",
       "      <td>OK</td>\n",
       "    </tr>\n",
       "    <tr>\n",
       "      <th>1</th>\n",
       "      <td>200.0</td>\n",
       "      <td>OK</td>\n",
       "    </tr>\n",
       "    <tr>\n",
       "      <th>2</th>\n",
       "      <td>200.0</td>\n",
       "      <td>OK</td>\n",
       "    </tr>\n",
       "    <tr>\n",
       "      <th>3</th>\n",
       "      <td>304.0</td>\n",
       "      <td>Not Modified</td>\n",
       "    </tr>\n",
       "    <tr>\n",
       "      <th>4</th>\n",
       "      <td>200.0</td>\n",
       "      <td>OK</td>\n",
       "    </tr>\n",
       "    <tr>\n",
       "      <th>...</th>\n",
       "      <td>...</td>\n",
       "      <td>...</td>\n",
       "    </tr>\n",
       "    <tr>\n",
       "      <th>1569891</th>\n",
       "      <td>304.0</td>\n",
       "      <td>Not Modified</td>\n",
       "    </tr>\n",
       "    <tr>\n",
       "      <th>1569892</th>\n",
       "      <td>304.0</td>\n",
       "      <td>Not Modified</td>\n",
       "    </tr>\n",
       "    <tr>\n",
       "      <th>1569893</th>\n",
       "      <td>200.0</td>\n",
       "      <td>OK</td>\n",
       "    </tr>\n",
       "    <tr>\n",
       "      <th>1569894</th>\n",
       "      <td>200.0</td>\n",
       "      <td>OK</td>\n",
       "    </tr>\n",
       "    <tr>\n",
       "      <th>1569895</th>\n",
       "      <td>200.0</td>\n",
       "      <td>OK</td>\n",
       "    </tr>\n",
       "  </tbody>\n",
       "</table>\n",
       "<p>3461610 rows × 2 columns</p>\n",
       "</div>"
      ],
      "text/plain": [
       "         response       rescode\n",
       "0           200.0            OK\n",
       "1           200.0            OK\n",
       "2           200.0            OK\n",
       "3           304.0  Not Modified\n",
       "4           200.0            OK\n",
       "...           ...           ...\n",
       "1569891     304.0  Not Modified\n",
       "1569892     304.0  Not Modified\n",
       "1569893     200.0            OK\n",
       "1569894     200.0            OK\n",
       "1569895     200.0            OK\n",
       "\n",
       "[3461610 rows x 2 columns]"
      ]
     },
     "execution_count": 20,
     "metadata": {},
     "output_type": "execute_result"
    }
   ],
   "source": [
    "# Dataframe resulting from response analysis\n",
    "df_response"
   ]
  },
  {
   "cell_type": "markdown",
   "metadata": {},
   "source": [
    "### Bytes\n",
    "* threshold indicator to build case for potential point for improvement: CDN"
   ]
  },
  {
   "cell_type": "code",
   "execution_count": null,
   "metadata": {},
   "outputs": [],
   "source": []
  },
  {
   "cell_type": "markdown",
   "metadata": {},
   "source": [
    "## Identify relationship between features"
   ]
  },
  {
   "cell_type": "code",
   "execution_count": null,
   "metadata": {},
   "outputs": [],
   "source": []
  },
  {
   "cell_type": "markdown",
   "metadata": {},
   "source": [
    "## Recommendations (?)"
   ]
  }
 ],
 "metadata": {
  "kernelspec": {
   "display_name": "py38",
   "language": "python",
   "name": "python3"
  },
  "language_info": {
   "codemirror_mode": {
    "name": "ipython",
    "version": 3
   },
   "file_extension": ".py",
   "mimetype": "text/x-python",
   "name": "python",
   "nbconvert_exporter": "python",
   "pygments_lexer": "ipython3",
   "version": "3.8.13"
  },
  "orig_nbformat": 4
 },
 "nbformat": 4,
 "nbformat_minor": 2
}
